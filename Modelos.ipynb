{
 "cells": [
  {
   "cell_type": "markdown",
   "metadata": {},
   "source": [
    "Importar librerias\n"
   ]
  },
  {
   "cell_type": "code",
   "execution_count": 1,
   "metadata": {},
   "outputs": [],
   "source": [
    "import numpy as np  # Librería para manejo de arreglos numéricos\n",
    "import pandas as pd  # Librería para manipulación de datos en estructuras tipo DataFrame\n",
    "from sklearn.model_selection import train_test_split\n",
    "from sklearn.model_selection import cross_val_score, cross_val_predict  # Métodos de validación cruzada\n",
    "from sklearn.metrics import mean_squared_error  # Función para calcular el error cuadrático medio (MSE)\n",
    "from sklearn.linear_model import LinearRegression, ElasticNet  # Modelos de regresión lineal y Elastic Net\n",
    "from sklearn.neighbors import KNeighborsRegressor  # Modelo de K Vecinos más Cercanos\n",
    "from sklearn.cross_decomposition import PLSRegression  # Regresión de Mínimos Cuadrados Parciales (PLS)\n",
    "from sklearn.ensemble import RandomForestRegressor, GradientBoostingRegressor  # Modelos de Random Forest y Gradient Boosting"
   ]
  },
  {
   "cell_type": "markdown",
   "metadata": {},
   "source": [
    "Importar datos"
   ]
  },
  {
   "cell_type": "code",
   "execution_count": 4,
   "metadata": {},
   "outputs": [],
   "source": [
    "df = pd.read_excel(io = r\"C:\\Users\\Stefania Alvarez\\Documents\\Universidad\\2025-1\\Tesis Final\\Modelos de prediccion\\PruebaDatos.xlsx\", sheet_name = \"Cordoba\")\n"
   ]
  },
  {
   "cell_type": "code",
   "execution_count": 5,
   "metadata": {},
   "outputs": [
    {
     "data": {
      "text/html": [
       "<div>\n",
       "<style scoped>\n",
       "    .dataframe tbody tr th:only-of-type {\n",
       "        vertical-align: middle;\n",
       "    }\n",
       "\n",
       "    .dataframe tbody tr th {\n",
       "        vertical-align: top;\n",
       "    }\n",
       "\n",
       "    .dataframe thead th {\n",
       "        text-align: right;\n",
       "    }\n",
       "</style>\n",
       "<table border=\"1\" class=\"dataframe\">\n",
       "  <thead>\n",
       "    <tr style=\"text-align: right;\">\n",
       "      <th></th>\n",
       "      <th>Ano</th>\n",
       "      <th>T.Max</th>\n",
       "      <th>T.Min</th>\n",
       "      <th>P.Vapor</th>\n",
       "      <th>Precipitacion</th>\n",
       "      <th>Irradicion</th>\n",
       "      <th>WindSpeed</th>\n",
       "      <th>Departameto</th>\n",
       "      <th>Irrigacion</th>\n",
       "      <th>Toneladas por Hectaria</th>\n",
       "    </tr>\n",
       "  </thead>\n",
       "  <tbody>\n",
       "    <tr>\n",
       "      <th>0</th>\n",
       "      <td>2000</td>\n",
       "      <td>32.96</td>\n",
       "      <td>23.19</td>\n",
       "      <td>38.08</td>\n",
       "      <td>31.71</td>\n",
       "      <td>4593.10</td>\n",
       "      <td>1.05</td>\n",
       "      <td>1</td>\n",
       "      <td>1</td>\n",
       "      <td>5975.913858</td>\n",
       "    </tr>\n",
       "    <tr>\n",
       "      <th>1</th>\n",
       "      <td>2001</td>\n",
       "      <td>33.26</td>\n",
       "      <td>23.83</td>\n",
       "      <td>39.21</td>\n",
       "      <td>31.93</td>\n",
       "      <td>4591.66</td>\n",
       "      <td>1.09</td>\n",
       "      <td>1</td>\n",
       "      <td>1</td>\n",
       "      <td>5601.195926</td>\n",
       "    </tr>\n",
       "    <tr>\n",
       "      <th>2</th>\n",
       "      <td>2002</td>\n",
       "      <td>33.83</td>\n",
       "      <td>24.14</td>\n",
       "      <td>40.24</td>\n",
       "      <td>31.99</td>\n",
       "      <td>4591.66</td>\n",
       "      <td>0.94</td>\n",
       "      <td>1</td>\n",
       "      <td>1</td>\n",
       "      <td>4057.597788</td>\n",
       "    </tr>\n",
       "    <tr>\n",
       "      <th>3</th>\n",
       "      <td>2003</td>\n",
       "      <td>33.19</td>\n",
       "      <td>24.11</td>\n",
       "      <td>39.43</td>\n",
       "      <td>30.53</td>\n",
       "      <td>4591.66</td>\n",
       "      <td>1.11</td>\n",
       "      <td>1</td>\n",
       "      <td>1</td>\n",
       "      <td>4398.120031</td>\n",
       "    </tr>\n",
       "    <tr>\n",
       "      <th>4</th>\n",
       "      <td>2004</td>\n",
       "      <td>33.34</td>\n",
       "      <td>24.44</td>\n",
       "      <td>40.12</td>\n",
       "      <td>30.79</td>\n",
       "      <td>4593.10</td>\n",
       "      <td>1.05</td>\n",
       "      <td>1</td>\n",
       "      <td>1</td>\n",
       "      <td>4612.752932</td>\n",
       "    </tr>\n",
       "  </tbody>\n",
       "</table>\n",
       "</div>"
      ],
      "text/plain": [
       "    Ano  T.Max  T.Min  P.Vapor  Precipitacion  Irradicion  WindSpeed  \\\n",
       "0  2000  32.96  23.19    38.08          31.71     4593.10       1.05   \n",
       "1  2001  33.26  23.83    39.21          31.93     4591.66       1.09   \n",
       "2  2002  33.83  24.14    40.24          31.99     4591.66       0.94   \n",
       "3  2003  33.19  24.11    39.43          30.53     4591.66       1.11   \n",
       "4  2004  33.34  24.44    40.12          30.79     4593.10       1.05   \n",
       "\n",
       "   Departameto  Irrigacion  Toneladas por Hectaria  \n",
       "0            1           1             5975.913858  \n",
       "1            1           1             5601.195926  \n",
       "2            1           1             4057.597788  \n",
       "3            1           1             4398.120031  \n",
       "4            1           1             4612.752932  "
      ]
     },
     "execution_count": 5,
     "metadata": {},
     "output_type": "execute_result"
    }
   ],
   "source": [
    "df.head()"
   ]
  },
  {
   "cell_type": "markdown",
   "metadata": {},
   "source": [
    "Partimos los datos "
   ]
  },
  {
   "cell_type": "code",
   "execution_count": 8,
   "metadata": {},
   "outputs": [],
   "source": [
    "features = ['T.Max', 'T.Min', 'P.Vapor', 'Precipitacion', \"Departameto\", \"Irrigacion\"]\n",
    "\n",
    "X = df[features]\n",
    "y = df['Toneladas por Hectaria']\n",
    "X_train, X_test, y_train, y_test = train_test_split(X, y, random_state=42) #No entiendo random state 42"
   ]
  },
  {
   "cell_type": "markdown",
   "metadata": {},
   "source": [
    "Modelo Regresion Lineal"
   ]
  },
  {
   "cell_type": "code",
   "execution_count": 9,
   "metadata": {},
   "outputs": [
    {
     "name": "stdout",
     "output_type": "stream",
     "text": [
      "MSE: 205739.23373994554\n",
      "RMSE: 453.5848693904433\n"
     ]
    }
   ],
   "source": [
    "modelRL = LinearRegression()\n",
    "modelRL.fit(X_train, y_train)\n",
    "\n",
    "y_pred = modelRL.predict(X_train)  # Predicciones en los datos de validación\n",
    "\n",
    "mse = mean_squared_error(y_train, y_pred)  # Calcula el MSE\n",
    "rmse = np.sqrt(mse)  # Calcula el RMSE\n",
    "\n",
    "print(f\"MSE: {mse}\")\n",
    "print(f\"RMSE: {rmse}\")\n"
   ]
  }
 ],
 "metadata": {
  "kernelspec": {
   "display_name": "base",
   "language": "python",
   "name": "python3"
  },
  "language_info": {
   "codemirror_mode": {
    "name": "ipython",
    "version": 3
   },
   "file_extension": ".py",
   "mimetype": "text/x-python",
   "name": "python",
   "nbconvert_exporter": "python",
   "pygments_lexer": "ipython3",
   "version": "3.12.4"
  }
 },
 "nbformat": 4,
 "nbformat_minor": 2
}
