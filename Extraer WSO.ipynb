{
 "cells": [
  {
   "cell_type": "code",
   "execution_count": 6,
   "metadata": {},
   "outputs": [],
   "source": [
    "import pandas as pd\n",
    "\n",
    "# Ruta del archivo con muchas hojas\n",
    "input_excel_path = r\"C:\\Users\\Stefania Alvarez\\Documents\\Universidad\\2025-1\\Tesis Final\\Modelos de prediccion\\Resultados_LINTUL2_2000_2020.xlsx\"\n",
    "\n",
    "# Ruta del archivo de salida\n",
    "output_path = r\"C:\\Users\\Stefania Alvarez\\Documents\\Universidad\\2025-1\\Tesis Final\\Modelos de prediccion\\PruebaDatos.xlsx\"\n",
    "\n",
    "# Leer todas las hojas\n",
    "all_sheets = pd.read_excel(input_excel_path, sheet_name=None)\n",
    "\n",
    "# Inicializar un DataFrame base con la columna 'time'\n",
    "merged_df = pd.DataFrame()\n",
    "\n",
    "for sheet_name, df in all_sheets.items():\n",
    "    if 'time' in df.columns and 'WSO' in df.columns:\n",
    "        temp_df = df[['time', 'WSO']].copy()\n",
    "        temp_df = temp_df.rename(columns={'WSO': sheet_name})  # renombrar 'WSO' como nombre de la hoja\n",
    "\n",
    "        if merged_df.empty:\n",
    "            merged_df = temp_df\n",
    "        else:\n",
    "            merged_df = pd.merge(merged_df, temp_df, on='time', how='outer')  # juntar por 'time'\n",
    "\n",
    "# Guardar el resultado en una nueva hoja\n",
    "with pd.ExcelWriter(output_path, engine='openpyxl', mode='a', if_sheet_exists='replace') as writer:\n",
    "    merged_df.to_excel(writer, sheet_name='WSO_ColumnasSeparadas', index=False)\n",
    "\n",
    "\n"
   ]
  }
 ],
 "metadata": {
  "kernelspec": {
   "display_name": "base",
   "language": "python",
   "name": "python3"
  },
  "language_info": {
   "codemirror_mode": {
    "name": "ipython",
    "version": 3
   },
   "file_extension": ".py",
   "mimetype": "text/x-python",
   "name": "python",
   "nbconvert_exporter": "python",
   "pygments_lexer": "ipython3",
   "version": "3.12.4"
  }
 },
 "nbformat": 4,
 "nbformat_minor": 2
}
